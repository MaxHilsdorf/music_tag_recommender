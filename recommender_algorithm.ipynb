{
 "cells": [
  {
   "cell_type": "markdown",
   "metadata": {},
   "source": [
    "# Writing a Simple Recommender Algorithm for Tagging Music"
   ]
  },
  {
   "cell_type": "markdown",
   "metadata": {},
   "source": [
    "In a previous notebook, we have scraped music tags from www.bensound.com and created a boolean based dataset with it. Most recently, we have created a correlation matrix with every unique tag and exported it as a csv file."
   ]
  },
  {
   "cell_type": "markdown",
   "metadata": {},
   "source": [
    "Now, we are going to use these correlations to build a program, that takes a tag as an input and recommend the three tags that have the highest correlation with the input tag."
   ]
  },
  {
   "cell_type": "markdown",
   "metadata": {},
   "source": [
    "## 1. Load the Data"
   ]
  },
  {
   "cell_type": "code",
   "execution_count": 44,
   "metadata": {},
   "outputs": [],
   "source": [
    "import pandas as pd"
   ]
  },
  {
   "cell_type": "code",
   "execution_count": 71,
   "metadata": {},
   "outputs": [],
   "source": [
    "directory = \"C:/Users/maxhi/OneDrive/Uni & Work/Programming/Data Science/Music Tagging/Data\"\n",
    "filename = \"music_tags_corr_matrix.csv\""
   ]
  },
  {
   "cell_type": "code",
   "execution_count": 27,
   "metadata": {},
   "outputs": [],
   "source": [
    "music_tags = pd.read_csv(\"{directory}/{filename}\".format(directory = directory,\n",
    "                                                        filename = filename),\n",
    "                        index_col = \"index\")"
   ]
  },
  {
   "cell_type": "code",
   "execution_count": 28,
   "metadata": {},
   "outputs": [
    {
     "data": {
      "text/html": [
       "<div>\n",
       "<style scoped>\n",
       "    .dataframe tbody tr th:only-of-type {\n",
       "        vertical-align: middle;\n",
       "    }\n",
       "\n",
       "    .dataframe tbody tr th {\n",
       "        vertical-align: top;\n",
       "    }\n",
       "\n",
       "    .dataframe thead th {\n",
       "        text-align: right;\n",
       "    }\n",
       "</style>\n",
       "<table border=\"1\" class=\"dataframe\">\n",
       "  <thead>\n",
       "    <tr style=\"text-align: right;\">\n",
       "      <th></th>\n",
       "      <th>ukulele</th>\n",
       "      <th>happy</th>\n",
       "      <th>funny</th>\n",
       "      <th>advertising</th>\n",
       "      <th>upbeat</th>\n",
       "      <th>kid</th>\n",
       "      <th>kids</th>\n",
       "      <th>positive</th>\n",
       "      <th>chidren</th>\n",
       "      <th>joy</th>\n",
       "      <th>...</th>\n",
       "      <th>shangai</th>\n",
       "      <th>koto</th>\n",
       "      <th>guzheng</th>\n",
       "      <th>erhu</th>\n",
       "      <th>dizi</th>\n",
       "      <th>voice</th>\n",
       "      <th>sfx</th>\n",
       "      <th>discover</th>\n",
       "      <th>geek</th>\n",
       "      <th>holiday</th>\n",
       "    </tr>\n",
       "    <tr>\n",
       "      <th>index</th>\n",
       "      <th></th>\n",
       "      <th></th>\n",
       "      <th></th>\n",
       "      <th></th>\n",
       "      <th></th>\n",
       "      <th></th>\n",
       "      <th></th>\n",
       "      <th></th>\n",
       "      <th></th>\n",
       "      <th></th>\n",
       "      <th></th>\n",
       "      <th></th>\n",
       "      <th></th>\n",
       "      <th></th>\n",
       "      <th></th>\n",
       "      <th></th>\n",
       "      <th></th>\n",
       "      <th></th>\n",
       "      <th></th>\n",
       "      <th></th>\n",
       "      <th></th>\n",
       "    </tr>\n",
       "  </thead>\n",
       "  <tbody>\n",
       "    <tr>\n",
       "      <th>ukulele</th>\n",
       "      <td>1.000000</td>\n",
       "      <td>0.186441</td>\n",
       "      <td>0.153846</td>\n",
       "      <td>0.086538</td>\n",
       "      <td>0.086957</td>\n",
       "      <td>0.200000</td>\n",
       "      <td>0.321429</td>\n",
       "      <td>0.112360</td>\n",
       "      <td>0.083333</td>\n",
       "      <td>0.250000</td>\n",
       "      <td>...</td>\n",
       "      <td>0.0</td>\n",
       "      <td>0.0</td>\n",
       "      <td>0.0</td>\n",
       "      <td>0.0</td>\n",
       "      <td>0.0</td>\n",
       "      <td>0.0</td>\n",
       "      <td>0.0</td>\n",
       "      <td>0.0</td>\n",
       "      <td>0.0</td>\n",
       "      <td>0.083333</td>\n",
       "    </tr>\n",
       "    <tr>\n",
       "      <th>happy</th>\n",
       "      <td>0.186441</td>\n",
       "      <td>1.000000</td>\n",
       "      <td>0.245902</td>\n",
       "      <td>0.370690</td>\n",
       "      <td>0.391304</td>\n",
       "      <td>0.103448</td>\n",
       "      <td>0.406780</td>\n",
       "      <td>0.464646</td>\n",
       "      <td>0.017241</td>\n",
       "      <td>0.266667</td>\n",
       "      <td>...</td>\n",
       "      <td>0.0</td>\n",
       "      <td>0.0</td>\n",
       "      <td>0.0</td>\n",
       "      <td>0.0</td>\n",
       "      <td>0.0</td>\n",
       "      <td>0.0</td>\n",
       "      <td>0.0</td>\n",
       "      <td>0.0</td>\n",
       "      <td>0.0</td>\n",
       "      <td>0.017241</td>\n",
       "    </tr>\n",
       "    <tr>\n",
       "      <th>funny</th>\n",
       "      <td>0.153846</td>\n",
       "      <td>0.245902</td>\n",
       "      <td>1.000000</td>\n",
       "      <td>0.101852</td>\n",
       "      <td>0.142857</td>\n",
       "      <td>0.200000</td>\n",
       "      <td>0.387097</td>\n",
       "      <td>0.093750</td>\n",
       "      <td>0.055556</td>\n",
       "      <td>0.090909</td>\n",
       "      <td>...</td>\n",
       "      <td>0.0</td>\n",
       "      <td>0.0</td>\n",
       "      <td>0.0</td>\n",
       "      <td>0.0</td>\n",
       "      <td>0.0</td>\n",
       "      <td>0.0</td>\n",
       "      <td>0.0</td>\n",
       "      <td>0.0</td>\n",
       "      <td>0.0</td>\n",
       "      <td>0.000000</td>\n",
       "    </tr>\n",
       "    <tr>\n",
       "      <th>advertising</th>\n",
       "      <td>0.086538</td>\n",
       "      <td>0.370690</td>\n",
       "      <td>0.101852</td>\n",
       "      <td>1.000000</td>\n",
       "      <td>0.177966</td>\n",
       "      <td>0.038835</td>\n",
       "      <td>0.188679</td>\n",
       "      <td>0.468750</td>\n",
       "      <td>0.009901</td>\n",
       "      <td>0.133333</td>\n",
       "      <td>...</td>\n",
       "      <td>0.0</td>\n",
       "      <td>0.0</td>\n",
       "      <td>0.0</td>\n",
       "      <td>0.0</td>\n",
       "      <td>0.0</td>\n",
       "      <td>0.0</td>\n",
       "      <td>0.0</td>\n",
       "      <td>0.0</td>\n",
       "      <td>0.0</td>\n",
       "      <td>0.000000</td>\n",
       "    </tr>\n",
       "    <tr>\n",
       "      <th>upbeat</th>\n",
       "      <td>0.086957</td>\n",
       "      <td>0.391304</td>\n",
       "      <td>0.142857</td>\n",
       "      <td>0.177966</td>\n",
       "      <td>1.000000</td>\n",
       "      <td>0.073171</td>\n",
       "      <td>0.260000</td>\n",
       "      <td>0.315789</td>\n",
       "      <td>0.026316</td>\n",
       "      <td>0.272727</td>\n",
       "      <td>...</td>\n",
       "      <td>0.0</td>\n",
       "      <td>0.0</td>\n",
       "      <td>0.0</td>\n",
       "      <td>0.0</td>\n",
       "      <td>0.0</td>\n",
       "      <td>0.0</td>\n",
       "      <td>0.0</td>\n",
       "      <td>0.0</td>\n",
       "      <td>0.0</td>\n",
       "      <td>0.026316</td>\n",
       "    </tr>\n",
       "  </tbody>\n",
       "</table>\n",
       "<p>5 rows × 917 columns</p>\n",
       "</div>"
      ],
      "text/plain": [
       "              ukulele     happy     funny  advertising    upbeat       kid  \\\n",
       "index                                                                        \n",
       "ukulele      1.000000  0.186441  0.153846     0.086538  0.086957  0.200000   \n",
       "happy        0.186441  1.000000  0.245902     0.370690  0.391304  0.103448   \n",
       "funny        0.153846  0.245902  1.000000     0.101852  0.142857  0.200000   \n",
       "advertising  0.086538  0.370690  0.101852     1.000000  0.177966  0.038835   \n",
       "upbeat       0.086957  0.391304  0.142857     0.177966  1.000000  0.073171   \n",
       "\n",
       "                 kids  positive   chidren       joy  ...  shangai  koto  \\\n",
       "index                                                ...                  \n",
       "ukulele      0.321429  0.112360  0.083333  0.250000  ...      0.0   0.0   \n",
       "happy        0.406780  0.464646  0.017241  0.266667  ...      0.0   0.0   \n",
       "funny        0.387097  0.093750  0.055556  0.090909  ...      0.0   0.0   \n",
       "advertising  0.188679  0.468750  0.009901  0.133333  ...      0.0   0.0   \n",
       "upbeat       0.260000  0.315789  0.026316  0.272727  ...      0.0   0.0   \n",
       "\n",
       "             guzheng  erhu  dizi  voice  sfx  discover  geek   holiday  \n",
       "index                                                                   \n",
       "ukulele          0.0   0.0   0.0    0.0  0.0       0.0   0.0  0.083333  \n",
       "happy            0.0   0.0   0.0    0.0  0.0       0.0   0.0  0.017241  \n",
       "funny            0.0   0.0   0.0    0.0  0.0       0.0   0.0  0.000000  \n",
       "advertising      0.0   0.0   0.0    0.0  0.0       0.0   0.0  0.000000  \n",
       "upbeat           0.0   0.0   0.0    0.0  0.0       0.0   0.0  0.026316  \n",
       "\n",
       "[5 rows x 917 columns]"
      ]
     },
     "execution_count": 28,
     "metadata": {},
     "output_type": "execute_result"
    }
   ],
   "source": [
    "music_tags.head()"
   ]
  },
  {
   "cell_type": "markdown",
   "metadata": {},
   "source": [
    "## 2. Algorithm"
   ]
  },
  {
   "cell_type": "markdown",
   "metadata": {},
   "source": [
    "First, we need a function that takes a tag as an input and returns a df with all correlations and the respective tags"
   ]
  },
  {
   "cell_type": "code",
   "execution_count": 29,
   "metadata": {},
   "outputs": [],
   "source": [
    "def find_correlations(df, tag):\n",
    "    \n",
    "    # Setup empty list\n",
    "    correlations = []\n",
    "    columns = []\n",
    "\n",
    "    # Loop through all column at the row with the tag as its index\n",
    "    for i, corr in enumerate(df.loc[tag,:]):\n",
    "        \n",
    "        # Find the column\n",
    "        col = df.columns[i]\n",
    "        \n",
    "        # Append the correlation to the list\n",
    "        correlations.append(corr)\n",
    "        columns.append(col)\n",
    "    \n",
    "    # Create a df out of the lists\n",
    "    results_df = pd.DataFrame({\"tag\" : columns,\n",
    "                              \"correlation\" : correlations})\n",
    "    \n",
    "    return results_df"
   ]
  },
  {
   "cell_type": "markdown",
   "metadata": {},
   "source": [
    "Now, let's use a support function to find the highest n correlations"
   ]
  },
  {
   "cell_type": "code",
   "execution_count": 30,
   "metadata": {},
   "outputs": [],
   "source": [
    "def find_highest_correlations(corr_df, num_of_values):\n",
    "    \n",
    "    # Sort the input df\n",
    "    corr_df_sorted = corr_df.sort_values(by = [\"correlation\"], ascending = False)\n",
    "    \n",
    "    # Extract the relevant correlations\n",
    "    corr_df_sliced = corr_df_sorted.iloc[1:num_of_values+1]\n",
    "    \n",
    "    return corr_df_sliced\n",
    "    "
   ]
  },
  {
   "cell_type": "markdown",
   "metadata": {},
   "source": [
    "Nice! Let's combine the two functions above to get the n highest correlations for a tag we give as an input."
   ]
  },
  {
   "cell_type": "code",
   "execution_count": 31,
   "metadata": {},
   "outputs": [],
   "source": [
    "def get_recommendations(df, tag, num_of_recommendations):\n",
    "    \n",
    "    corr_df = find_correlations(df, tag)\n",
    "    \n",
    "    recommendations_df = find_highest_correlations(corr_df, num_of_recommendations)\n",
    "    \n",
    "    print(\"Recommendations:\", list(recommendations_df[\"tag\"]))"
   ]
  },
  {
   "cell_type": "markdown",
   "metadata": {},
   "source": [
    "Let's see what 3 tags our model recommends for \"happy\", \"sad\", and \"energetic\"."
   ]
  },
  {
   "cell_type": "code",
   "execution_count": 45,
   "metadata": {},
   "outputs": [
    {
     "name": "stdout",
     "output_type": "stream",
     "text": [
      "Recommendations: ['fun', 'feel good', 'positive']\n"
     ]
    }
   ],
   "source": [
    "get_recommendations(music_tags, \"happy\", 3)"
   ]
  },
  {
   "cell_type": "code",
   "execution_count": 46,
   "metadata": {},
   "outputs": [
    {
     "name": "stdout",
     "output_type": "stream",
     "text": [
      "Recommendations: ['moving', 'touching', 'melancholic']\n"
     ]
    }
   ],
   "source": [
    "get_recommendations(music_tags, \"sad\", 3)"
   ]
  },
  {
   "cell_type": "code",
   "execution_count": 47,
   "metadata": {},
   "outputs": [
    {
     "name": "stdout",
     "output_type": "stream",
     "text": [
      "Recommendations: ['energy', 'sport', 'electric']\n"
     ]
    }
   ],
   "source": [
    "get_recommendations(music_tags, \"energetic\", 3)"
   ]
  },
  {
   "cell_type": "code",
   "execution_count": 48,
   "metadata": {},
   "outputs": [
    {
     "name": "stdout",
     "output_type": "stream",
     "text": [
      "Recommendations: ['heavy', 'hard', 'extreme']\n"
     ]
    }
   ],
   "source": [
    "get_recommendations(music_tags, \"agressive\", 3)"
   ]
  },
  {
   "cell_type": "code",
   "execution_count": 67,
   "metadata": {},
   "outputs": [
    {
     "name": "stdout",
     "output_type": "stream",
     "text": [
      "Recommendations: ['horror', 'anxiety', 'stress']\n"
     ]
    }
   ],
   "source": [
    "get_recommendations(music_tags, \"anxiety\", 3)"
   ]
  },
  {
   "cell_type": "code",
   "execution_count": 68,
   "metadata": {},
   "outputs": [],
   "source": [
    "import random"
   ]
  },
  {
   "cell_type": "code",
   "execution_count": 69,
   "metadata": {},
   "outputs": [
    {
     "name": "stdout",
     "output_type": "stream",
     "text": [
      "hopeful\n"
     ]
    }
   ],
   "source": [
    "ran = random.choice(list(music_tags.columns))\n",
    "print(ran)"
   ]
  },
  {
   "cell_type": "code",
   "execution_count": 70,
   "metadata": {},
   "outputs": [
    {
     "name": "stdout",
     "output_type": "stream",
     "text": [
      "Recommendations: ['inspirational', 'moving', 'slideshow']\n"
     ]
    }
   ],
   "source": [
    "get_recommendations(music_tags, ran, 3)"
   ]
  },
  {
   "cell_type": "markdown",
   "metadata": {},
   "source": [
    "These are some great results! The next step for will be to put this notebook into a .py script where you can intuitively give inputs and receive recommendations. A more ambitious goal is to get this model running as a web application."
   ]
  }
 ],
 "metadata": {
  "kernelspec": {
   "display_name": "Python 3",
   "language": "python",
   "name": "python3"
  },
  "language_info": {
   "codemirror_mode": {
    "name": "ipython",
    "version": 3
   },
   "file_extension": ".py",
   "mimetype": "text/x-python",
   "name": "python",
   "nbconvert_exporter": "python",
   "pygments_lexer": "ipython3",
   "version": "3.7.3"
  }
 },
 "nbformat": 4,
 "nbformat_minor": 2
}
