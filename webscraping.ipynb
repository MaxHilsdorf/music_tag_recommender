{
 "cells": [
  {
   "cell_type": "markdown",
   "metadata": {},
   "source": [
    "# Scraping Music Tags from Bensound.com"
   ]
  },
  {
   "cell_type": "markdown",
   "metadata": {},
   "source": [
    "The Website https://www.bensound.com/ offers music to download and use for free under the creative commons licence.\n",
    "It features more than 250 tracks, each with plenty of tags. In this notebook, I am going to use webscraping to create a dataset featuring all tags for every track on the website."
   ]
  },
  {
   "cell_type": "markdown",
   "metadata": {},
   "source": [
    "# 1. Extract All Tracks on a Page"
   ]
  },
  {
   "cell_type": "markdown",
   "metadata": {},
   "source": [
    "On bensound, you cannot access the tags from the main page, but only from each tracks individual page. Therefore, our first step is to write a function that returns all track urls on a page."
   ]
  },
  {
   "cell_type": "code",
   "execution_count": 1,
   "metadata": {},
   "outputs": [],
   "source": [
    "import requests\n",
    "from bs4 import BeautifulSoup"
   ]
  },
  {
   "cell_type": "code",
   "execution_count": 2,
   "metadata": {},
   "outputs": [],
   "source": [
    "def get_tracks(page_url):\n",
    "    \n",
    "    # Setup soup for main page\n",
    "    page_r = requests.get(page_url)\n",
    "    page_soup = BeautifulSoup(page_r.text, \"html.parser\")\n",
    "    page_html = page_soup.body.div.find_all(\"a\")\n",
    "    \n",
    "    # Setup empty list and fill it with the URLS\n",
    "    track_list = []\n",
    "    for i in range(33,84, 5): # these are the positions where we find the track urls in this case\n",
    "        entry = page_html[i][\"href\"]\n",
    "        track_list.append(entry)\n",
    "        \n",
    "    return track_list"
   ]
  },
  {
   "cell_type": "code",
   "execution_count": 3,
   "metadata": {},
   "outputs": [
    {
     "data": {
      "text/plain": [
       "['https://www.bensound.com/royalty-free-music/track/ukulele',\n",
       " 'https://www.bensound.com/royalty-free-music/track/creative-minds',\n",
       " 'https://www.bensound.com/royalty-free-music/track/a-new-beginning',\n",
       " 'https://www.bensound.com/royalty-free-music/track/little-idea',\n",
       " 'https://www.bensound.com/royalty-free-music/track/jazzy-frenchy',\n",
       " 'https://www.bensound.com/royalty-free-music/track/happy-rock',\n",
       " 'https://www.bensound.com/royalty-free-music/track/hey-happy-cheerful',\n",
       " 'https://www.bensound.com/royalty-free-music/track/cute',\n",
       " 'https://www.bensound.com/royalty-free-music/track/memories',\n",
       " 'https://www.bensound.com/royalty-free-music/track/going-higher',\n",
       " 'https://www.bensound.com/royalty-free-music/track/acoustic-breeze']"
      ]
     },
     "execution_count": 3,
     "metadata": {},
     "output_type": "execute_result"
    }
   ],
   "source": [
    "get_tracks(\"https://www.bensound.com/royalty-free-music/\")"
   ]
  },
  {
   "cell_type": "markdown",
   "metadata": {},
   "source": [
    "# 2. Extract All Tags of a Song"
   ]
  },
  {
   "cell_type": "markdown",
   "metadata": {},
   "source": [
    "Now that we know how to get to the track urls, we need to write a function that finds the tags on a track url."
   ]
  },
  {
   "cell_type": "code",
   "execution_count": 4,
   "metadata": {},
   "outputs": [],
   "source": [
    "def get_tags(track_url):\n",
    "    \n",
    "    # Setup soup for track page\n",
    "    track_r = requests.get(track_url)\n",
    "    track_soup = BeautifulSoup(track_r.text, \"html.parser\")\n",
    "    taglist_html = track_soup.body.div.find(\"p\", {\"class\": \"taglist\"})\n",
    "    taglist_html = taglist_html.find_all(\"a\")\n",
    "    taglist = []\n",
    "    for i in taglist_html:\n",
    "        for j in i:\n",
    "            taglist.append(j)          \n",
    "    return taglist"
   ]
  },
  {
   "cell_type": "code",
   "execution_count": 5,
   "metadata": {},
   "outputs": [
    {
     "data": {
      "text/plain": [
       "['ukulele',\n",
       " 'happy',\n",
       " 'funny',\n",
       " 'advertising',\n",
       " 'upbeat',\n",
       " 'kid',\n",
       " 'kids',\n",
       " 'positive',\n",
       " 'chidren',\n",
       " 'joy',\n",
       " 'fun',\n",
       " 'acoustic',\n",
       " 'light',\n",
       " 'gentle']"
      ]
     },
     "execution_count": 5,
     "metadata": {},
     "output_type": "execute_result"
    }
   ],
   "source": [
    "get_tags(\"https://www.bensound.com/royalty-free-music/track/ukulele\")"
   ]
  },
  {
   "cell_type": "markdown",
   "metadata": {},
   "source": [
    "# 3. Extract All Tags from All Songs on All Pages"
   ]
  },
  {
   "cell_type": "markdown",
   "metadata": {},
   "source": [
    "Let's combine the two functions above to scrape all tags from all tags on all 23 pages."
   ]
  },
  {
   "cell_type": "markdown",
   "metadata": {},
   "source": [
    "Fortunately, every page on bensound only has a slightly different url, adding a \"/num\" for the page number (starting at page 2). We can therefore easily use an integer based loop for this task. "
   ]
  },
  {
   "cell_type": "code",
   "execution_count": 105,
   "metadata": {},
   "outputs": [],
   "source": [
    "url_template = \"https://www.bensound.com/royalty-free-music/{page}\""
   ]
  },
  {
   "cell_type": "code",
   "execution_count": 106,
   "metadata": {},
   "outputs": [],
   "source": [
    "page_urls = [\"https://www.bensound.com/royalty-free-music/\"]"
   ]
  },
  {
   "cell_type": "code",
   "execution_count": 107,
   "metadata": {},
   "outputs": [],
   "source": [
    "for i in range(2,24):\n",
    "    page_urls.append(url_template.format(page = i))"
   ]
  },
  {
   "cell_type": "code",
   "execution_count": 111,
   "metadata": {},
   "outputs": [],
   "source": [
    "def get_all_tags(page_urls):\n",
    "    \n",
    "    # Setup the dict that we will create the df from later\n",
    "    tag_dict = {\"URL\" : [], \"Tags\" : []}\n",
    "    \n",
    "    # Loop through all page urls and extract the track urls\n",
    "    for i, page_url in enumerate(page_urls):    \n",
    "        track_list = get_tracks(page_url)\n",
    "        \n",
    "        # Loop through the track urls and extract the revleant information\n",
    "        for track_url in track_list:\n",
    "            tag_list = get_tags(track_url)\n",
    "            tag_dict[\"URL\"].append(track_url)\n",
    "            tag_dict[\"Tags\"].append(tag_list)\n",
    "    \n",
    "    return tag_dict"
   ]
  },
  {
   "cell_type": "code",
   "execution_count": 1,
   "metadata": {},
   "outputs": [
    {
     "ename": "NameError",
     "evalue": "name 'get_all_tags' is not defined",
     "output_type": "error",
     "traceback": [
      "\u001b[1;31m---------------------------------------------------------------------------\u001b[0m",
      "\u001b[1;31mNameError\u001b[0m                                 Traceback (most recent call last)",
      "\u001b[1;32m<ipython-input-1-fb46a1d67851>\u001b[0m in \u001b[0;36m<module>\u001b[1;34m\u001b[0m\n\u001b[1;32m----> 1\u001b[1;33m \u001b[0mtag_dict\u001b[0m \u001b[1;33m=\u001b[0m \u001b[0mget_all_tags\u001b[0m\u001b[1;33m(\u001b[0m\u001b[0mpage_urls\u001b[0m\u001b[1;33m)\u001b[0m\u001b[1;33m\u001b[0m\u001b[1;33m\u001b[0m\u001b[0m\n\u001b[0m",
      "\u001b[1;31mNameError\u001b[0m: name 'get_all_tags' is not defined"
     ]
    }
   ],
   "source": [
    "tag_dict = get_all_tags(page_urls)"
   ]
  },
  {
   "cell_type": "markdown",
   "metadata": {},
   "source": [
    "# 4. Store and Export the Data"
   ]
  },
  {
   "cell_type": "markdown",
   "metadata": {},
   "source": [
    "We'll store the dag_dict in a DataFrame, making use of pandas' dict comprehension {\"Column\" : [\"Value_1\", \"Value_2\"]}."
   ]
  },
  {
   "cell_type": "code",
   "execution_count": 2,
   "metadata": {},
   "outputs": [],
   "source": [
    "import pandas as pd"
   ]
  },
  {
   "cell_type": "code",
   "execution_count": 114,
   "metadata": {},
   "outputs": [],
   "source": [
    "df_tags = pd.DataFrame(tag_dict)"
   ]
  },
  {
   "cell_type": "code",
   "execution_count": 116,
   "metadata": {},
   "outputs": [
    {
     "data": {
      "text/html": [
       "<div>\n",
       "<style scoped>\n",
       "    .dataframe tbody tr th:only-of-type {\n",
       "        vertical-align: middle;\n",
       "    }\n",
       "\n",
       "    .dataframe tbody tr th {\n",
       "        vertical-align: top;\n",
       "    }\n",
       "\n",
       "    .dataframe thead th {\n",
       "        text-align: right;\n",
       "    }\n",
       "</style>\n",
       "<table border=\"1\" class=\"dataframe\">\n",
       "  <thead>\n",
       "    <tr style=\"text-align: right;\">\n",
       "      <th></th>\n",
       "      <th>URL</th>\n",
       "      <th>Tags</th>\n",
       "    </tr>\n",
       "  </thead>\n",
       "  <tbody>\n",
       "    <tr>\n",
       "      <th>0</th>\n",
       "      <td>https://www.bensound.com/royalty-free-music/tr...</td>\n",
       "      <td>[ukulele, happy, funny, advertising, upbeat, k...</td>\n",
       "    </tr>\n",
       "    <tr>\n",
       "      <th>1</th>\n",
       "      <td>https://www.bensound.com/royalty-free-music/tr...</td>\n",
       "      <td>[corporate, motivation, background, presentati...</td>\n",
       "    </tr>\n",
       "    <tr>\n",
       "      <th>2</th>\n",
       "      <td>https://www.bensound.com/royalty-free-music/tr...</td>\n",
       "      <td>[rock, uplifting, success, positive, hope, hop...</td>\n",
       "    </tr>\n",
       "    <tr>\n",
       "      <th>3</th>\n",
       "      <td>https://www.bensound.com/royalty-free-music/tr...</td>\n",
       "      <td>[kid, kids, corporate, bouncy, happy, upbeat, ...</td>\n",
       "    </tr>\n",
       "    <tr>\n",
       "      <th>4</th>\n",
       "      <td>https://www.bensound.com/royalty-free-music/tr...</td>\n",
       "      <td>[jazz, jazzy, acoustic, old, light, retro, swi...</td>\n",
       "    </tr>\n",
       "  </tbody>\n",
       "</table>\n",
       "</div>"
      ],
      "text/plain": [
       "                                                 URL  \\\n",
       "0  https://www.bensound.com/royalty-free-music/tr...   \n",
       "1  https://www.bensound.com/royalty-free-music/tr...   \n",
       "2  https://www.bensound.com/royalty-free-music/tr...   \n",
       "3  https://www.bensound.com/royalty-free-music/tr...   \n",
       "4  https://www.bensound.com/royalty-free-music/tr...   \n",
       "\n",
       "                                                Tags  \n",
       "0  [ukulele, happy, funny, advertising, upbeat, k...  \n",
       "1  [corporate, motivation, background, presentati...  \n",
       "2  [rock, uplifting, success, positive, hope, hop...  \n",
       "3  [kid, kids, corporate, bouncy, happy, upbeat, ...  \n",
       "4  [jazz, jazzy, acoustic, old, light, retro, swi...  "
      ]
     },
     "execution_count": 116,
     "metadata": {},
     "output_type": "execute_result"
    }
   ],
   "source": [
    "df_tags.head()"
   ]
  },
  {
   "cell_type": "markdown",
   "metadata": {},
   "source": [
    "Finally, let's export the data as a .csv file. We can't use \",\" as our separator, because it already separated our list elements in the \"Tags\" column. Let's use \";\" instead."
   ]
  },
  {
   "cell_type": "code",
   "execution_count": 120,
   "metadata": {},
   "outputs": [],
   "source": [
    "df_tags.to_csv(\"music_tags_raw.csv\", sep = \";\", index = False)"
   ]
  }
 ],
 "metadata": {
  "kernelspec": {
   "display_name": "Python 3",
   "language": "python",
   "name": "python3"
  },
  "language_info": {
   "codemirror_mode": {
    "name": "ipython",
    "version": 3
   },
   "file_extension": ".py",
   "mimetype": "text/x-python",
   "name": "python",
   "nbconvert_exporter": "python",
   "pygments_lexer": "ipython3",
   "version": "3.7.3"
  }
 },
 "nbformat": 4,
 "nbformat_minor": 2
}
