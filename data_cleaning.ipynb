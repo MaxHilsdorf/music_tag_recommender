{
 "cells": [
  {
   "cell_type": "markdown",
   "metadata": {},
   "source": [
    "# Cleaning the Music Tag Dataset"
   ]
  },
  {
   "cell_type": "markdown",
   "metadata": {},
   "source": [
    "# 1. Introduction"
   ]
  },
  {
   "cell_type": "markdown",
   "metadata": {},
   "source": [
    "__Background__ <br>\n",
    "The data used in this notebook was scraped from www.bensound.com, a website for free-to-use music under the creative commons license. The dataset contains the url and tags for 253 tracks. <br>\n",
    "__Aim__ <br>\n",
    "In this notebook, we'll explore ways to clean the dataset. We'll extract the track names from the URL and use them for the index rows, convert the lists of tags from string to list objects, and correct misspelled tags."
   ]
  },
  {
   "cell_type": "markdown",
   "metadata": {},
   "source": [
    "# 2. Cleaning"
   ]
  },
  {
   "cell_type": "markdown",
   "metadata": {},
   "source": [
    "## 2.1 Load Data"
   ]
  },
  {
   "cell_type": "code",
   "execution_count": 66,
   "metadata": {},
   "outputs": [],
   "source": [
    "import pandas as pd"
   ]
  },
  {
   "cell_type": "code",
   "execution_count": 67,
   "metadata": {},
   "outputs": [],
   "source": [
    "# set wd and filename\n",
    "directory = \"C:/Users/maxhi/OneDrive/Uni & Work/Programming/Data Science/Music Tagging/Data\"\n",
    "filename = \"music_tags_raw.csv\"\n",
    "# load data\n",
    "music_tags = pd.read_csv(\"{directory}/{filename}\".format(\n",
    "    directory = directory, filename = filename), sep = \";\")"
   ]
  },
  {
   "cell_type": "code",
   "execution_count": 68,
   "metadata": {},
   "outputs": [
    {
     "name": "stdout",
     "output_type": "stream",
     "text": [
      "<class 'pandas.core.frame.DataFrame'>\n",
      "RangeIndex: 253 entries, 0 to 252\n",
      "Data columns (total 2 columns):\n",
      "URL     253 non-null object\n",
      "Tags    253 non-null object\n",
      "dtypes: object(2)\n",
      "memory usage: 2.0+ KB\n"
     ]
    }
   ],
   "source": [
    "music_tags.info()"
   ]
  },
  {
   "cell_type": "code",
   "execution_count": 69,
   "metadata": {
    "scrolled": true
   },
   "outputs": [
    {
     "data": {
      "text/html": [
       "<div>\n",
       "<style scoped>\n",
       "    .dataframe tbody tr th:only-of-type {\n",
       "        vertical-align: middle;\n",
       "    }\n",
       "\n",
       "    .dataframe tbody tr th {\n",
       "        vertical-align: top;\n",
       "    }\n",
       "\n",
       "    .dataframe thead th {\n",
       "        text-align: right;\n",
       "    }\n",
       "</style>\n",
       "<table border=\"1\" class=\"dataframe\">\n",
       "  <thead>\n",
       "    <tr style=\"text-align: right;\">\n",
       "      <th></th>\n",
       "      <th>URL</th>\n",
       "      <th>Tags</th>\n",
       "    </tr>\n",
       "  </thead>\n",
       "  <tbody>\n",
       "    <tr>\n",
       "      <th>0</th>\n",
       "      <td>https://www.bensound.com/royalty-free-music/tr...</td>\n",
       "      <td>['ukulele', 'happy', 'funny', 'advertising', '...</td>\n",
       "    </tr>\n",
       "    <tr>\n",
       "      <th>1</th>\n",
       "      <td>https://www.bensound.com/royalty-free-music/tr...</td>\n",
       "      <td>['corporate', 'motivation', 'background', 'pre...</td>\n",
       "    </tr>\n",
       "    <tr>\n",
       "      <th>2</th>\n",
       "      <td>https://www.bensound.com/royalty-free-music/tr...</td>\n",
       "      <td>['rock', 'uplifting', 'success', 'positive', '...</td>\n",
       "    </tr>\n",
       "    <tr>\n",
       "      <th>3</th>\n",
       "      <td>https://www.bensound.com/royalty-free-music/tr...</td>\n",
       "      <td>['kid', 'kids', 'corporate', 'bouncy', 'happy'...</td>\n",
       "    </tr>\n",
       "    <tr>\n",
       "      <th>4</th>\n",
       "      <td>https://www.bensound.com/royalty-free-music/tr...</td>\n",
       "      <td>['jazz', 'jazzy', 'acoustic', 'old', 'light', ...</td>\n",
       "    </tr>\n",
       "  </tbody>\n",
       "</table>\n",
       "</div>"
      ],
      "text/plain": [
       "                                                 URL  \\\n",
       "0  https://www.bensound.com/royalty-free-music/tr...   \n",
       "1  https://www.bensound.com/royalty-free-music/tr...   \n",
       "2  https://www.bensound.com/royalty-free-music/tr...   \n",
       "3  https://www.bensound.com/royalty-free-music/tr...   \n",
       "4  https://www.bensound.com/royalty-free-music/tr...   \n",
       "\n",
       "                                                Tags  \n",
       "0  ['ukulele', 'happy', 'funny', 'advertising', '...  \n",
       "1  ['corporate', 'motivation', 'background', 'pre...  \n",
       "2  ['rock', 'uplifting', 'success', 'positive', '...  \n",
       "3  ['kid', 'kids', 'corporate', 'bouncy', 'happy'...  \n",
       "4  ['jazz', 'jazzy', 'acoustic', 'old', 'light', ...  "
      ]
     },
     "execution_count": 69,
     "metadata": {},
     "output_type": "execute_result"
    }
   ],
   "source": [
    "music_tags.head()"
   ]
  },
  {
   "cell_type": "markdown",
   "metadata": {},
   "source": [
    "## 2.2 Create Uniform Column Names"
   ]
  },
  {
   "cell_type": "code",
   "execution_count": 70,
   "metadata": {},
   "outputs": [],
   "source": [
    "# set both columns to lowercase\n",
    "new_columns = []\n",
    "for column in music_tags.columns:\n",
    "    new_columns.append(column.lower())\n",
    "music_tags.columns = new_columns"
   ]
  },
  {
   "cell_type": "code",
   "execution_count": 71,
   "metadata": {},
   "outputs": [
    {
     "data": {
      "text/plain": [
       "Index(['url', 'tags'], dtype='object')"
      ]
     },
     "execution_count": 71,
     "metadata": {},
     "output_type": "execute_result"
    }
   ],
   "source": [
    "music_tags.columns"
   ]
  },
  {
   "cell_type": "markdown",
   "metadata": {},
   "source": [
    "## 2.3 Extract Track Names from URL"
   ]
  },
  {
   "cell_type": "markdown",
   "metadata": {},
   "source": [
    "There are two reasons why it is useful to extract the track names from the url. <br>\n",
    "1) The track name is a piece of information similar to tags. There might be relationsships between track name and tags that we could explore. <br>\n",
    "2) Pandas offers labeled indexing of columns and rows. We could set the track names as the row indices to select individual tracks in an intuitive way. <br>\n",
    "Luckily, the url contains the track name at the same place. We can therefore extract them with string slicing."
   ]
  },
  {
   "cell_type": "code",
   "execution_count": 72,
   "metadata": {},
   "outputs": [],
   "source": [
    "# create new column \"track_name\"\n",
    "# the track names start at index 50 in every url\n",
    "music_tags[\"track_name\"] = music_tags[\"url\"].str.slice(start = 50)"
   ]
  },
  {
   "cell_type": "code",
   "execution_count": 73,
   "metadata": {},
   "outputs": [],
   "source": [
    "# replace \"-\" with space\n",
    "music_tags[\"track_name\"] = music_tags[\"track_name\"].str.replace(\"-\", \" \")"
   ]
  },
  {
   "cell_type": "code",
   "execution_count": 74,
   "metadata": {},
   "outputs": [
    {
     "data": {
      "text/plain": [
       "0            ukulele\n",
       "1     creative minds\n",
       "2    a new beginning\n",
       "3        little idea\n",
       "4      jazzy frenchy\n",
       "Name: track_name, dtype: object"
      ]
     },
     "execution_count": 74,
     "metadata": {},
     "output_type": "execute_result"
    }
   ],
   "source": [
    "music_tags[\"track_name\"].head()"
   ]
  },
  {
   "cell_type": "markdown",
   "metadata": {},
   "source": [
    "## 2.4 Change Taglists from String to List"
   ]
  },
  {
   "cell_type": "code",
   "execution_count": 75,
   "metadata": {},
   "outputs": [
    {
     "data": {
      "text/plain": [
       "dtype('O')"
      ]
     },
     "execution_count": 75,
     "metadata": {},
     "output_type": "execute_result"
    }
   ],
   "source": [
    "music_tags[\"tags\"].dtype"
   ]
  },
  {
   "cell_type": "code",
   "execution_count": 76,
   "metadata": {},
   "outputs": [
    {
     "data": {
      "text/plain": [
       "str"
      ]
     },
     "execution_count": 76,
     "metadata": {},
     "output_type": "execute_result"
    }
   ],
   "source": [
    "type(music_tags[\"tags\"][0])"
   ]
  },
  {
   "cell_type": "markdown",
   "metadata": {},
   "source": [
    "The taglists were scraped as list objects, but were read from the .csv file as strings. Let's change that."
   ]
  },
  {
   "cell_type": "code",
   "execution_count": 77,
   "metadata": {},
   "outputs": [],
   "source": [
    "# create empty list\n",
    "tag_lists = []\n",
    "\n",
    "# loop through\n",
    "for string in music_tags[\"tags\"]:\n",
    "    string = eval(string)\n",
    "    tag_lists.append(string)\n",
    "    \n",
    "music_tags[\"tags\"] = tag_lists"
   ]
  },
  {
   "cell_type": "code",
   "execution_count": 78,
   "metadata": {},
   "outputs": [
    {
     "data": {
      "text/html": [
       "<div>\n",
       "<style scoped>\n",
       "    .dataframe tbody tr th:only-of-type {\n",
       "        vertical-align: middle;\n",
       "    }\n",
       "\n",
       "    .dataframe tbody tr th {\n",
       "        vertical-align: top;\n",
       "    }\n",
       "\n",
       "    .dataframe thead th {\n",
       "        text-align: right;\n",
       "    }\n",
       "</style>\n",
       "<table border=\"1\" class=\"dataframe\">\n",
       "  <thead>\n",
       "    <tr style=\"text-align: right;\">\n",
       "      <th></th>\n",
       "      <th>url</th>\n",
       "      <th>tags</th>\n",
       "      <th>track_name</th>\n",
       "    </tr>\n",
       "  </thead>\n",
       "  <tbody>\n",
       "    <tr>\n",
       "      <th>0</th>\n",
       "      <td>https://www.bensound.com/royalty-free-music/tr...</td>\n",
       "      <td>[ukulele, happy, funny, advertising, upbeat, k...</td>\n",
       "      <td>ukulele</td>\n",
       "    </tr>\n",
       "    <tr>\n",
       "      <th>1</th>\n",
       "      <td>https://www.bensound.com/royalty-free-music/tr...</td>\n",
       "      <td>[corporate, motivation, background, presentati...</td>\n",
       "      <td>creative minds</td>\n",
       "    </tr>\n",
       "    <tr>\n",
       "      <th>2</th>\n",
       "      <td>https://www.bensound.com/royalty-free-music/tr...</td>\n",
       "      <td>[rock, uplifting, success, positive, hope, hop...</td>\n",
       "      <td>a new beginning</td>\n",
       "    </tr>\n",
       "    <tr>\n",
       "      <th>3</th>\n",
       "      <td>https://www.bensound.com/royalty-free-music/tr...</td>\n",
       "      <td>[kid, kids, corporate, bouncy, happy, upbeat, ...</td>\n",
       "      <td>little idea</td>\n",
       "    </tr>\n",
       "    <tr>\n",
       "      <th>4</th>\n",
       "      <td>https://www.bensound.com/royalty-free-music/tr...</td>\n",
       "      <td>[jazz, jazzy, acoustic, old, light, retro, swi...</td>\n",
       "      <td>jazzy frenchy</td>\n",
       "    </tr>\n",
       "  </tbody>\n",
       "</table>\n",
       "</div>"
      ],
      "text/plain": [
       "                                                 url  \\\n",
       "0  https://www.bensound.com/royalty-free-music/tr...   \n",
       "1  https://www.bensound.com/royalty-free-music/tr...   \n",
       "2  https://www.bensound.com/royalty-free-music/tr...   \n",
       "3  https://www.bensound.com/royalty-free-music/tr...   \n",
       "4  https://www.bensound.com/royalty-free-music/tr...   \n",
       "\n",
       "                                                tags       track_name  \n",
       "0  [ukulele, happy, funny, advertising, upbeat, k...          ukulele  \n",
       "1  [corporate, motivation, background, presentati...   creative minds  \n",
       "2  [rock, uplifting, success, positive, hope, hop...  a new beginning  \n",
       "3  [kid, kids, corporate, bouncy, happy, upbeat, ...      little idea  \n",
       "4  [jazz, jazzy, acoustic, old, light, retro, swi...    jazzy frenchy  "
      ]
     },
     "execution_count": 78,
     "metadata": {},
     "output_type": "execute_result"
    }
   ],
   "source": [
    "music_tags.head()"
   ]
  },
  {
   "cell_type": "markdown",
   "metadata": {},
   "source": [
    "## 2.5 Remove \"\\xa0\" from Tag Strings"
   ]
  },
  {
   "cell_type": "markdown",
   "metadata": {},
   "source": [
    "When we try to get all unique tags and their frequencies..."
   ]
  },
  {
   "cell_type": "code",
   "execution_count": 79,
   "metadata": {},
   "outputs": [],
   "source": [
    "all_tags = {}\n",
    "\n",
    "# Loop through every list\n",
    "for tag_list in music_tags[\"tags\"]:\n",
    "    \n",
    "    # Loop through every element in the list\n",
    "    for tag in tag_list:\n",
    "        # Add them to the dict or increment their frequency by 1\n",
    "        if tag not in all_tags:\n",
    "            all_tags[tag] = 1\n",
    "        else:\n",
    "            all_tags[tag] += 1"
   ]
  },
  {
   "cell_type": "markdown",
   "metadata": {},
   "source": [
    "...we see some tags with \"\\xa0\" in front of the actual tag. This is a unicode representation of a space. We need to remove these unicodes, so that typos aren't registered as different tags."
   ]
  },
  {
   "cell_type": "code",
   "execution_count": 80,
   "metadata": {},
   "outputs": [],
   "source": [
    "\n",
    "# Loop through all lists and their indices\n",
    "for i, row in enumerate(music_tags[\"tags\"]):\n",
    "    \n",
    "    # Setup an empty list for the cleaned tags\n",
    "    tag_list = []\n",
    "    \n",
    "    # Look at ever individual tag\n",
    "    for tag in row:\n",
    "        \n",
    "        # If \\xa0 is in the tag, slice the string - remember, \\xa0 means space\n",
    "        if \"\\xa0\" in tag:\n",
    "            new_tag = tag[1:]\n",
    "            tag_list.append(new_tag)\n",
    "        else:\n",
    "            tag_list.append(tag)\n",
    "        \n",
    "        # Reassign the new_tags to the df\n",
    "    music_tags.iloc[i, 1] = tag_list"
   ]
  },
  {
   "cell_type": "markdown",
   "metadata": {},
   "source": [
    "Let's try it again!"
   ]
  },
  {
   "cell_type": "code",
   "execution_count": 81,
   "metadata": {},
   "outputs": [],
   "source": [
    "all_tags = {}\n",
    "\n",
    "# Loop through every list\n",
    "for tag_list in music_tags[\"tags\"]:\n",
    "    \n",
    "    # Loop through every element in the list\n",
    "    for tag in tag_list:\n",
    "        # Add them to the dict or increment their frequency by 1\n",
    "        if tag not in all_tags:\n",
    "            all_tags[tag] = 1\n",
    "        else:\n",
    "            all_tags[tag] += 1"
   ]
  },
  {
   "cell_type": "code",
   "execution_count": 82,
   "metadata": {},
   "outputs": [],
   "source": [
    "all_tags_sorted = {k: v for k, v in sorted(all_tags.items(), key=lambda item: item[1])}"
   ]
  },
  {
   "cell_type": "markdown",
   "metadata": {},
   "source": [
    "Great, the data is now properly cleaned! <br>\n",
    "In the next step, I'm going to get rid of this impractical column of lists. It would be more practical to create a boolean based dataframe with the tracks as rows and every unqiue tag as a column."
   ]
  },
  {
   "cell_type": "markdown",
   "metadata": {},
   "source": [
    "# 3. Transformation"
   ]
  },
  {
   "cell_type": "markdown",
   "metadata": {},
   "source": [
    "Using a smaller test dataset, I have written the two functions below. get_all_unique() will return all unique tags as a list. Create_boolean_df() will us these as columns and every track as rows. It will use True and False values to state whether a tag (column) is in a track (row)."
   ]
  },
  {
   "cell_type": "code",
   "execution_count": 83,
   "metadata": {},
   "outputs": [],
   "source": [
    "def get_all_unique(dataframe_of_lists):\n",
    "    # Create empty list\n",
    "    unique_tags = []\n",
    "    \n",
    "    # Loop through the dataframe rows (lists) and each item inside\n",
    "    for row in dataframe_of_lists:\n",
    "        for item in row:\n",
    "            \n",
    "            # Add item to all_tags if it's not already in it\n",
    "            if item not in unique_tags:\n",
    "                unique_tags.append(item)\n",
    "                \n",
    "    return unique_tags"
   ]
  },
  {
   "cell_type": "code",
   "execution_count": 84,
   "metadata": {},
   "outputs": [],
   "source": [
    "def create_boolean_df(unique_tags, track_taglists):\n",
    "    # Create new df with a column for every tag\n",
    "    boolean_df = pd.DataFrame(columns = unique_tags)\n",
    "    boolean_df.shape\n",
    "    \n",
    "    # Create an empty dict\n",
    "    data_dict = {}\n",
    "    \n",
    "    # Loop through the columns (tags) in the boolean_df and add them to the dict\n",
    "    for col in boolean_df:\n",
    "        data_dict[col] = []\n",
    "        \n",
    "        # Loop through the taglists in the old dataframe\n",
    "        for taglist in track_taglists:\n",
    "            \n",
    "            # Check if the column (tag) is in the tracks taglist. If yes append True else append False\n",
    "            data_dict[col].append(col in taglist)\n",
    "    \n",
    "    # Use the boolean lists as values for the boolean_df's columns\n",
    "    for col in boolean_df:\n",
    "        boolean_df[col] = data_dict[col]\n",
    "        \n",
    "    return boolean_df"
   ]
  },
  {
   "cell_type": "markdown",
   "metadata": {},
   "source": [
    "Let's use these functions to get a boolean based representation fo our data."
   ]
  },
  {
   "cell_type": "code",
   "execution_count": 85,
   "metadata": {},
   "outputs": [],
   "source": [
    "unique_tags = get_all_unique(music_tags[\"tags\"])"
   ]
  },
  {
   "cell_type": "code",
   "execution_count": 86,
   "metadata": {},
   "outputs": [],
   "source": [
    "music_tags_bool = create_boolean_df(unique_tags, music_tags[\"tags\"])"
   ]
  },
  {
   "cell_type": "code",
   "execution_count": 87,
   "metadata": {
    "scrolled": true
   },
   "outputs": [
    {
     "data": {
      "text/plain": [
       "(253, 917)"
      ]
     },
     "execution_count": 87,
     "metadata": {},
     "output_type": "execute_result"
    }
   ],
   "source": [
    "music_tags_bool.shape"
   ]
  },
  {
   "cell_type": "code",
   "execution_count": 88,
   "metadata": {},
   "outputs": [
    {
     "name": "stdout",
     "output_type": "stream",
     "text": [
      "<class 'pandas.core.frame.DataFrame'>\n",
      "RangeIndex: 253 entries, 0 to 252\n",
      "Columns: 917 entries, ukulele to holiday\n",
      "dtypes: bool(917)\n",
      "memory usage: 226.6 KB\n"
     ]
    }
   ],
   "source": [
    "music_tags_bool.info()"
   ]
  },
  {
   "cell_type": "markdown",
   "metadata": {},
   "source": [
    "Now, all we need to do is add the track_names as indices for the new df and then store it as a csv file."
   ]
  },
  {
   "cell_type": "code",
   "execution_count": 89,
   "metadata": {},
   "outputs": [],
   "source": [
    "music_tags_bool = music_tags_bool.set_index(music_tags[\"track_name\"])"
   ]
  },
  {
   "cell_type": "code",
   "execution_count": 90,
   "metadata": {},
   "outputs": [
    {
     "data": {
      "text/html": [
       "<div>\n",
       "<style scoped>\n",
       "    .dataframe tbody tr th:only-of-type {\n",
       "        vertical-align: middle;\n",
       "    }\n",
       "\n",
       "    .dataframe tbody tr th {\n",
       "        vertical-align: top;\n",
       "    }\n",
       "\n",
       "    .dataframe thead th {\n",
       "        text-align: right;\n",
       "    }\n",
       "</style>\n",
       "<table border=\"1\" class=\"dataframe\">\n",
       "  <thead>\n",
       "    <tr style=\"text-align: right;\">\n",
       "      <th></th>\n",
       "      <th>ukulele</th>\n",
       "      <th>happy</th>\n",
       "      <th>funny</th>\n",
       "      <th>advertising</th>\n",
       "      <th>upbeat</th>\n",
       "      <th>kid</th>\n",
       "      <th>kids</th>\n",
       "      <th>positive</th>\n",
       "      <th>chidren</th>\n",
       "      <th>joy</th>\n",
       "      <th>...</th>\n",
       "      <th>shangai</th>\n",
       "      <th>koto</th>\n",
       "      <th>guzheng</th>\n",
       "      <th>erhu</th>\n",
       "      <th>dizi</th>\n",
       "      <th>voice</th>\n",
       "      <th>sfx</th>\n",
       "      <th>discover</th>\n",
       "      <th>geek</th>\n",
       "      <th>holiday</th>\n",
       "    </tr>\n",
       "    <tr>\n",
       "      <th>track_name</th>\n",
       "      <th></th>\n",
       "      <th></th>\n",
       "      <th></th>\n",
       "      <th></th>\n",
       "      <th></th>\n",
       "      <th></th>\n",
       "      <th></th>\n",
       "      <th></th>\n",
       "      <th></th>\n",
       "      <th></th>\n",
       "      <th></th>\n",
       "      <th></th>\n",
       "      <th></th>\n",
       "      <th></th>\n",
       "      <th></th>\n",
       "      <th></th>\n",
       "      <th></th>\n",
       "      <th></th>\n",
       "      <th></th>\n",
       "      <th></th>\n",
       "      <th></th>\n",
       "    </tr>\n",
       "  </thead>\n",
       "  <tbody>\n",
       "    <tr>\n",
       "      <th>ukulele</th>\n",
       "      <td>True</td>\n",
       "      <td>True</td>\n",
       "      <td>True</td>\n",
       "      <td>True</td>\n",
       "      <td>True</td>\n",
       "      <td>True</td>\n",
       "      <td>True</td>\n",
       "      <td>True</td>\n",
       "      <td>True</td>\n",
       "      <td>True</td>\n",
       "      <td>...</td>\n",
       "      <td>False</td>\n",
       "      <td>False</td>\n",
       "      <td>False</td>\n",
       "      <td>False</td>\n",
       "      <td>False</td>\n",
       "      <td>False</td>\n",
       "      <td>False</td>\n",
       "      <td>False</td>\n",
       "      <td>False</td>\n",
       "      <td>False</td>\n",
       "    </tr>\n",
       "    <tr>\n",
       "      <th>creative minds</th>\n",
       "      <td>False</td>\n",
       "      <td>False</td>\n",
       "      <td>False</td>\n",
       "      <td>True</td>\n",
       "      <td>False</td>\n",
       "      <td>False</td>\n",
       "      <td>False</td>\n",
       "      <td>True</td>\n",
       "      <td>False</td>\n",
       "      <td>False</td>\n",
       "      <td>...</td>\n",
       "      <td>False</td>\n",
       "      <td>False</td>\n",
       "      <td>False</td>\n",
       "      <td>False</td>\n",
       "      <td>False</td>\n",
       "      <td>False</td>\n",
       "      <td>False</td>\n",
       "      <td>False</td>\n",
       "      <td>False</td>\n",
       "      <td>False</td>\n",
       "    </tr>\n",
       "    <tr>\n",
       "      <th>a new beginning</th>\n",
       "      <td>False</td>\n",
       "      <td>False</td>\n",
       "      <td>False</td>\n",
       "      <td>False</td>\n",
       "      <td>False</td>\n",
       "      <td>False</td>\n",
       "      <td>False</td>\n",
       "      <td>True</td>\n",
       "      <td>False</td>\n",
       "      <td>False</td>\n",
       "      <td>...</td>\n",
       "      <td>False</td>\n",
       "      <td>False</td>\n",
       "      <td>False</td>\n",
       "      <td>False</td>\n",
       "      <td>False</td>\n",
       "      <td>False</td>\n",
       "      <td>False</td>\n",
       "      <td>False</td>\n",
       "      <td>False</td>\n",
       "      <td>False</td>\n",
       "    </tr>\n",
       "    <tr>\n",
       "      <th>little idea</th>\n",
       "      <td>False</td>\n",
       "      <td>True</td>\n",
       "      <td>True</td>\n",
       "      <td>False</td>\n",
       "      <td>True</td>\n",
       "      <td>True</td>\n",
       "      <td>True</td>\n",
       "      <td>True</td>\n",
       "      <td>False</td>\n",
       "      <td>True</td>\n",
       "      <td>...</td>\n",
       "      <td>False</td>\n",
       "      <td>False</td>\n",
       "      <td>False</td>\n",
       "      <td>False</td>\n",
       "      <td>False</td>\n",
       "      <td>False</td>\n",
       "      <td>False</td>\n",
       "      <td>False</td>\n",
       "      <td>False</td>\n",
       "      <td>False</td>\n",
       "    </tr>\n",
       "    <tr>\n",
       "      <th>jazzy frenchy</th>\n",
       "      <td>False</td>\n",
       "      <td>True</td>\n",
       "      <td>False</td>\n",
       "      <td>False</td>\n",
       "      <td>True</td>\n",
       "      <td>False</td>\n",
       "      <td>False</td>\n",
       "      <td>False</td>\n",
       "      <td>False</td>\n",
       "      <td>False</td>\n",
       "      <td>...</td>\n",
       "      <td>False</td>\n",
       "      <td>False</td>\n",
       "      <td>False</td>\n",
       "      <td>False</td>\n",
       "      <td>False</td>\n",
       "      <td>False</td>\n",
       "      <td>False</td>\n",
       "      <td>False</td>\n",
       "      <td>False</td>\n",
       "      <td>False</td>\n",
       "    </tr>\n",
       "  </tbody>\n",
       "</table>\n",
       "<p>5 rows × 917 columns</p>\n",
       "</div>"
      ],
      "text/plain": [
       "                 ukulele  happy  funny  advertising  upbeat    kid   kids  \\\n",
       "track_name                                                                  \n",
       "ukulele             True   True   True         True    True   True   True   \n",
       "creative minds     False  False  False         True   False  False  False   \n",
       "a new beginning    False  False  False        False   False  False  False   \n",
       "little idea        False   True   True        False    True   True   True   \n",
       "jazzy frenchy      False   True  False        False    True  False  False   \n",
       "\n",
       "                 positive  chidren    joy  ...  shangai   koto  guzheng  \\\n",
       "track_name                                 ...                            \n",
       "ukulele              True     True   True  ...    False  False    False   \n",
       "creative minds       True    False  False  ...    False  False    False   \n",
       "a new beginning      True    False  False  ...    False  False    False   \n",
       "little idea          True    False   True  ...    False  False    False   \n",
       "jazzy frenchy       False    False  False  ...    False  False    False   \n",
       "\n",
       "                  erhu   dizi  voice    sfx  discover   geek  holiday  \n",
       "track_name                                                             \n",
       "ukulele          False  False  False  False     False  False    False  \n",
       "creative minds   False  False  False  False     False  False    False  \n",
       "a new beginning  False  False  False  False     False  False    False  \n",
       "little idea      False  False  False  False     False  False    False  \n",
       "jazzy frenchy    False  False  False  False     False  False    False  \n",
       "\n",
       "[5 rows x 917 columns]"
      ]
     },
     "execution_count": 90,
     "metadata": {},
     "output_type": "execute_result"
    }
   ],
   "source": [
    "music_tags_bool.head()"
   ]
  },
  {
   "cell_type": "code",
   "execution_count": 91,
   "metadata": {},
   "outputs": [],
   "source": [
    "music_tags_bool.to_csv(\"music_tags_bool.csv\")"
   ]
  },
  {
   "cell_type": "code",
   "execution_count": null,
   "metadata": {},
   "outputs": [],
   "source": []
  }
 ],
 "metadata": {
  "kernelspec": {
   "display_name": "Python 3",
   "language": "python",
   "name": "python3"
  },
  "language_info": {
   "codemirror_mode": {
    "name": "ipython",
    "version": 3
   },
   "file_extension": ".py",
   "mimetype": "text/x-python",
   "name": "python",
   "nbconvert_exporter": "python",
   "pygments_lexer": "ipython3",
   "version": "3.7.3"
  }
 },
 "nbformat": 4,
 "nbformat_minor": 2
}
