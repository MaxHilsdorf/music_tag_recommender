{
 "cells": [
  {
   "cell_type": "markdown",
   "metadata": {},
   "source": [
    "# Correlating Tags in The Music Tags Dataset"
   ]
  },
  {
   "cell_type": "markdown",
   "metadata": {},
   "source": [
    "So far, we have scraped music tags from www.bensound.com and created a boolean based dataframe with over 900 columns and over 250 rows. A first step to building a recommender system with this dataset is to find tags that are highly correlated. However, cateorical variables can't be correlated like continuous variables, they can only be 'associated'. In practice, this means that we can't make linear predictions with our 'correlation'. Also, we won't be able to find negative relationships (r will be in range(0,1), not in range(-1,1). Either a is associated with b or it isn't. It can't be associated with not-b, because that is the same as not-associated with b. For the purpose of a tagging recommender system, that's not an issue. Noone is going to want to know what would be the worst possible tag for a piece of music. If we tag 'happy', we know we shouldn't tag 'sad', too."
   ]
  },
  {
   "cell_type": "markdown",
   "metadata": {},
   "source": [
    "## 1. Load The Dataset"
   ]
  },
  {
   "cell_type": "code",
   "execution_count": 14,
   "metadata": {},
   "outputs": [],
   "source": [
    "import pandas as pd"
   ]
  },
  {
   "cell_type": "code",
   "execution_count": 15,
   "metadata": {},
   "outputs": [],
   "source": [
    "directory = \"C:/Users/maxhi/OneDrive/Uni & Work/Programming/Data Science/Music Tagging/Data\"\n",
    "filename = \"music_tags_bool.csv\""
   ]
  },
  {
   "cell_type": "code",
   "execution_count": 16,
   "metadata": {},
   "outputs": [],
   "source": [
    "music_tags = pd.read_csv(\"{directory}/{filename}\".format(directory = directory,\n",
    "                                                        filename = filename), index_col = \"track_name\")"
   ]
  },
  {
   "cell_type": "code",
   "execution_count": 17,
   "metadata": {},
   "outputs": [
    {
     "data": {
      "text/html": [
       "<div>\n",
       "<style scoped>\n",
       "    .dataframe tbody tr th:only-of-type {\n",
       "        vertical-align: middle;\n",
       "    }\n",
       "\n",
       "    .dataframe tbody tr th {\n",
       "        vertical-align: top;\n",
       "    }\n",
       "\n",
       "    .dataframe thead th {\n",
       "        text-align: right;\n",
       "    }\n",
       "</style>\n",
       "<table border=\"1\" class=\"dataframe\">\n",
       "  <thead>\n",
       "    <tr style=\"text-align: right;\">\n",
       "      <th></th>\n",
       "      <th>ukulele</th>\n",
       "      <th>happy</th>\n",
       "      <th>funny</th>\n",
       "      <th>advertising</th>\n",
       "      <th>upbeat</th>\n",
       "      <th>kid</th>\n",
       "      <th>kids</th>\n",
       "      <th>positive</th>\n",
       "      <th>chidren</th>\n",
       "      <th>joy</th>\n",
       "      <th>...</th>\n",
       "      <th>shangai</th>\n",
       "      <th>koto</th>\n",
       "      <th>guzheng</th>\n",
       "      <th>erhu</th>\n",
       "      <th>dizi</th>\n",
       "      <th>voice</th>\n",
       "      <th>sfx</th>\n",
       "      <th>discover</th>\n",
       "      <th>geek</th>\n",
       "      <th>holiday</th>\n",
       "    </tr>\n",
       "    <tr>\n",
       "      <th>track_name</th>\n",
       "      <th></th>\n",
       "      <th></th>\n",
       "      <th></th>\n",
       "      <th></th>\n",
       "      <th></th>\n",
       "      <th></th>\n",
       "      <th></th>\n",
       "      <th></th>\n",
       "      <th></th>\n",
       "      <th></th>\n",
       "      <th></th>\n",
       "      <th></th>\n",
       "      <th></th>\n",
       "      <th></th>\n",
       "      <th></th>\n",
       "      <th></th>\n",
       "      <th></th>\n",
       "      <th></th>\n",
       "      <th></th>\n",
       "      <th></th>\n",
       "      <th></th>\n",
       "    </tr>\n",
       "  </thead>\n",
       "  <tbody>\n",
       "    <tr>\n",
       "      <th>ukulele</th>\n",
       "      <td>True</td>\n",
       "      <td>True</td>\n",
       "      <td>True</td>\n",
       "      <td>True</td>\n",
       "      <td>True</td>\n",
       "      <td>True</td>\n",
       "      <td>True</td>\n",
       "      <td>True</td>\n",
       "      <td>True</td>\n",
       "      <td>True</td>\n",
       "      <td>...</td>\n",
       "      <td>False</td>\n",
       "      <td>False</td>\n",
       "      <td>False</td>\n",
       "      <td>False</td>\n",
       "      <td>False</td>\n",
       "      <td>False</td>\n",
       "      <td>False</td>\n",
       "      <td>False</td>\n",
       "      <td>False</td>\n",
       "      <td>False</td>\n",
       "    </tr>\n",
       "    <tr>\n",
       "      <th>creative minds</th>\n",
       "      <td>False</td>\n",
       "      <td>False</td>\n",
       "      <td>False</td>\n",
       "      <td>True</td>\n",
       "      <td>False</td>\n",
       "      <td>False</td>\n",
       "      <td>False</td>\n",
       "      <td>True</td>\n",
       "      <td>False</td>\n",
       "      <td>False</td>\n",
       "      <td>...</td>\n",
       "      <td>False</td>\n",
       "      <td>False</td>\n",
       "      <td>False</td>\n",
       "      <td>False</td>\n",
       "      <td>False</td>\n",
       "      <td>False</td>\n",
       "      <td>False</td>\n",
       "      <td>False</td>\n",
       "      <td>False</td>\n",
       "      <td>False</td>\n",
       "    </tr>\n",
       "    <tr>\n",
       "      <th>a new beginning</th>\n",
       "      <td>False</td>\n",
       "      <td>False</td>\n",
       "      <td>False</td>\n",
       "      <td>False</td>\n",
       "      <td>False</td>\n",
       "      <td>False</td>\n",
       "      <td>False</td>\n",
       "      <td>True</td>\n",
       "      <td>False</td>\n",
       "      <td>False</td>\n",
       "      <td>...</td>\n",
       "      <td>False</td>\n",
       "      <td>False</td>\n",
       "      <td>False</td>\n",
       "      <td>False</td>\n",
       "      <td>False</td>\n",
       "      <td>False</td>\n",
       "      <td>False</td>\n",
       "      <td>False</td>\n",
       "      <td>False</td>\n",
       "      <td>False</td>\n",
       "    </tr>\n",
       "    <tr>\n",
       "      <th>little idea</th>\n",
       "      <td>False</td>\n",
       "      <td>True</td>\n",
       "      <td>True</td>\n",
       "      <td>False</td>\n",
       "      <td>True</td>\n",
       "      <td>True</td>\n",
       "      <td>True</td>\n",
       "      <td>True</td>\n",
       "      <td>False</td>\n",
       "      <td>True</td>\n",
       "      <td>...</td>\n",
       "      <td>False</td>\n",
       "      <td>False</td>\n",
       "      <td>False</td>\n",
       "      <td>False</td>\n",
       "      <td>False</td>\n",
       "      <td>False</td>\n",
       "      <td>False</td>\n",
       "      <td>False</td>\n",
       "      <td>False</td>\n",
       "      <td>False</td>\n",
       "    </tr>\n",
       "    <tr>\n",
       "      <th>jazzy frenchy</th>\n",
       "      <td>False</td>\n",
       "      <td>True</td>\n",
       "      <td>False</td>\n",
       "      <td>False</td>\n",
       "      <td>True</td>\n",
       "      <td>False</td>\n",
       "      <td>False</td>\n",
       "      <td>False</td>\n",
       "      <td>False</td>\n",
       "      <td>False</td>\n",
       "      <td>...</td>\n",
       "      <td>False</td>\n",
       "      <td>False</td>\n",
       "      <td>False</td>\n",
       "      <td>False</td>\n",
       "      <td>False</td>\n",
       "      <td>False</td>\n",
       "      <td>False</td>\n",
       "      <td>False</td>\n",
       "      <td>False</td>\n",
       "      <td>False</td>\n",
       "    </tr>\n",
       "  </tbody>\n",
       "</table>\n",
       "<p>5 rows × 917 columns</p>\n",
       "</div>"
      ],
      "text/plain": [
       "                 ukulele  happy  funny  advertising  upbeat    kid   kids  \\\n",
       "track_name                                                                  \n",
       "ukulele             True   True   True         True    True   True   True   \n",
       "creative minds     False  False  False         True   False  False  False   \n",
       "a new beginning    False  False  False        False   False  False  False   \n",
       "little idea        False   True   True        False    True   True   True   \n",
       "jazzy frenchy      False   True  False        False    True  False  False   \n",
       "\n",
       "                 positive  chidren    joy  ...  shangai   koto  guzheng  \\\n",
       "track_name                                 ...                            \n",
       "ukulele              True     True   True  ...    False  False    False   \n",
       "creative minds       True    False  False  ...    False  False    False   \n",
       "a new beginning      True    False  False  ...    False  False    False   \n",
       "little idea          True    False   True  ...    False  False    False   \n",
       "jazzy frenchy       False    False  False  ...    False  False    False   \n",
       "\n",
       "                  erhu   dizi  voice    sfx  discover   geek  holiday  \n",
       "track_name                                                             \n",
       "ukulele          False  False  False  False     False  False    False  \n",
       "creative minds   False  False  False  False     False  False    False  \n",
       "a new beginning  False  False  False  False     False  False    False  \n",
       "little idea      False  False  False  False     False  False    False  \n",
       "jazzy frenchy    False  False  False  False     False  False    False  \n",
       "\n",
       "[5 rows x 917 columns]"
      ]
     },
     "execution_count": 17,
     "metadata": {},
     "output_type": "execute_result"
    }
   ],
   "source": [
    "music_tags.head()"
   ]
  },
  {
   "cell_type": "markdown",
   "metadata": {},
   "source": [
    "## 2. Correlation"
   ]
  },
  {
   "cell_type": "markdown",
   "metadata": {},
   "source": [
    "### 2.1 Measurement"
   ]
  },
  {
   "cell_type": "markdown",
   "metadata": {},
   "source": [
    "Having said that correlation and association are different things, I wills tick to using the term correlation for simplicity purposes."
   ]
  },
  {
   "cell_type": "markdown",
   "metadata": {},
   "source": [
    "The basic function we are going to use for correlating any two tags will look like this:"
   ]
  },
  {
   "cell_type": "code",
   "execution_count": 18,
   "metadata": {},
   "outputs": [],
   "source": [
    "def correlation_dummy(a_and_b, \n",
    "                      a_not_b, \n",
    "                      b_not_a):\n",
    "    \n",
    "    # Formula for probability: positive_outcomes / possible_outcomes\n",
    "    positive_outcomes = a_and_b\n",
    "    possible_outcomes = a_and_b + a_not_b + b_not_a\n",
    "    \n",
    "    # r is the number of cases where a and b are tagged relative to the number of cases where only a or only b is tagged\n",
    "    r = positive_outcomes / possible_outcomes\n",
    "    \n",
    "    return r\n",
    "    "
   ]
  },
  {
   "cell_type": "code",
   "execution_count": 19,
   "metadata": {},
   "outputs": [
    {
     "data": {
      "text/plain": [
       "0.2857142857142857"
      ]
     },
     "execution_count": 19,
     "metadata": {},
     "output_type": "execute_result"
    }
   ],
   "source": [
    "correlation_dummy(a_and_b = 4,\n",
    "                  a_not_b = 7, \n",
    "                  b_not_a = 3)"
   ]
  },
  {
   "cell_type": "markdown",
   "metadata": {},
   "source": [
    "We now need to calculate this kind of correlation for every pair of tags in the dataset. Let's write a function for that."
   ]
  },
  {
   "cell_type": "code",
   "execution_count": 20,
   "metadata": {},
   "outputs": [],
   "source": [
    "def correlation(df, tag_a, tag_b):\n",
    "    \n",
    "    # Get all rows where a == True\n",
    "    a = df[df[tag_a]]\n",
    "    # Get all rows where b == True\n",
    "    b = df[df[tag_b]]\n",
    "    \n",
    "    # Find all rows where a AND b == True\n",
    "    a_and_b = df[ (df[tag_a]) & (df[tag_b]) ]\n",
    "    \n",
    "    # Find all rows where a == True AND b != True\n",
    "    a_not_b = df[ (df[tag_a]) & ~ (df[tag_b]) ]\n",
    "    # Find all rows where b == True AND a != True\n",
    "    b_not_a = df[ (df[tag_b]) & ~ (df[tag_a]) ]\n",
    "    \n",
    "    # Calculate the number of possitive and possible outcomes using the shape attribute\n",
    "    possible_outcomes = a_and_b.shape[0] + a_not_b.shape[0] + b_not_a.shape[0] # shape[0] returns the number of rows\n",
    "    positive_outcomes = a_and_b.shape[0]\n",
    "    \n",
    "    # Calculate the final correlation coefficient\n",
    "    r = positive_outcomes / possible_outcomes\n",
    "    \n",
    "    return r"
   ]
  },
  {
   "cell_type": "markdown",
   "metadata": {},
   "source": [
    "Let's test this function. <br>\n",
    "Correlating \"upbeat\" and \"happy\" should give us the same result as correlating \"happy\" and \"upbeat\"."
   ]
  },
  {
   "cell_type": "code",
   "execution_count": 21,
   "metadata": {},
   "outputs": [
    {
     "data": {
      "text/plain": [
       "0.391304347826087"
      ]
     },
     "execution_count": 21,
     "metadata": {},
     "output_type": "execute_result"
    }
   ],
   "source": [
    "correlation(music_tags, \"upbeat\", \"happy\")"
   ]
  },
  {
   "cell_type": "code",
   "execution_count": 22,
   "metadata": {},
   "outputs": [
    {
     "data": {
      "text/plain": [
       "0.391304347826087"
      ]
     },
     "execution_count": 22,
     "metadata": {},
     "output_type": "execute_result"
    }
   ],
   "source": [
    "correlation(music_tags, \"happy\", \"upbeat\")"
   ]
  },
  {
   "cell_type": "markdown",
   "metadata": {},
   "source": [
    "Correlating \"happy\" with itself should give us a correlation of 1, because \"happy\" shares all its occurrences with itself."
   ]
  },
  {
   "cell_type": "code",
   "execution_count": 23,
   "metadata": {},
   "outputs": [
    {
     "data": {
      "text/plain": [
       "1.0"
      ]
     },
     "execution_count": 23,
     "metadata": {},
     "output_type": "execute_result"
    }
   ],
   "source": [
    "correlation(music_tags, \"happy\", \"happy\")"
   ]
  },
  {
   "cell_type": "markdown",
   "metadata": {},
   "source": [
    "Very nice! It seems like our correlation function is working!"
   ]
  },
  {
   "cell_type": "markdown",
   "metadata": {},
   "source": [
    "# 2.2 Calculate Correlation Matrix"
   ]
  },
  {
   "cell_type": "markdown",
   "metadata": {},
   "source": [
    "First, we need to write a function that correlates a tag with all other tags."
   ]
  },
  {
   "cell_type": "code",
   "execution_count": 26,
   "metadata": {},
   "outputs": [],
   "source": [
    "def correlate_with_every_tag(df, tag_a, dict_mode = True): \n",
    "    \n",
    "    unique_tags = list(df.columns)\n",
    "    \n",
    "    # In dict_mode, the results are stored in a dict, which is good for analyzing one tag\n",
    "    # However, in order to transform the data into a df later, we need a list output\n",
    "    if dict_mode:\n",
    "        # Loop through every tag and store the correlation in the dict\n",
    "        correlation_dict = {}\n",
    "        for tag_b in unique_tags:\n",
    "            correlation_dict[tag_b] = correlation(df, tag_a, tag_b)\n",
    "        return correlation_dict\n",
    "    else:\n",
    "        # Loop through every tag and store the correlation in a list\n",
    "        correlation_list = []\n",
    "        for tag_b in unique_tags:\n",
    "            correlation_list.append(correlation(df, tag_a, tag_b))\n",
    "        return correlation_list"
   ]
  },
  {
   "cell_type": "code",
   "execution_count": 28,
   "metadata": {},
   "outputs": [
    {
     "data": {
      "text/plain": [
       "[1.0,\n",
       " 0.1864406779661017,\n",
       " 0.15384615384615385,\n",
       " 0.08653846153846154,\n",
       " 0.08695652173913043]"
      ]
     },
     "execution_count": 28,
     "metadata": {},
     "output_type": "execute_result"
    }
   ],
   "source": [
    "correlate_with_every_tag(music_tags, \"ukulele\", dict_mode = False)[:5] # display only 5 rows"
   ]
  },
  {
   "cell_type": "markdown",
   "metadata": {},
   "source": [
    "Next, we'll loop through all tags and perform the correlate_with_every_tag() function on it."
   ]
  },
  {
   "cell_type": "code",
   "execution_count": 30,
   "metadata": {},
   "outputs": [],
   "source": [
    "unique_tags = list(music_tags.columns)\n",
    "\n",
    "correlation_matrix_dict = {}\n",
    "\n",
    "for tag_a in unique_tags:\n",
    "    correlation_matrix_dict[tag_a] = correlate_with_every_tag(music_tags, tag_a, dict_mode = False)"
   ]
  },
  {
   "cell_type": "markdown",
   "metadata": {},
   "source": [
    "### 2.3 Store Correlations in a DataFrame"
   ]
  },
  {
   "cell_type": "code",
   "execution_count": 31,
   "metadata": {},
   "outputs": [],
   "source": [
    "df_corr_matrix = pd.DataFrame(correlation_matrix_dict)"
   ]
  },
  {
   "cell_type": "code",
   "execution_count": 32,
   "metadata": {},
   "outputs": [
    {
     "data": {
      "text/plain": [
       "(917, 917)"
      ]
     },
     "execution_count": 32,
     "metadata": {},
     "output_type": "execute_result"
    }
   ],
   "source": [
    "df_corr_matrix.shape"
   ]
  },
  {
   "cell_type": "code",
   "execution_count": 33,
   "metadata": {
    "scrolled": true
   },
   "outputs": [
    {
     "data": {
      "text/html": [
       "<div>\n",
       "<style scoped>\n",
       "    .dataframe tbody tr th:only-of-type {\n",
       "        vertical-align: middle;\n",
       "    }\n",
       "\n",
       "    .dataframe tbody tr th {\n",
       "        vertical-align: top;\n",
       "    }\n",
       "\n",
       "    .dataframe thead th {\n",
       "        text-align: right;\n",
       "    }\n",
       "</style>\n",
       "<table border=\"1\" class=\"dataframe\">\n",
       "  <thead>\n",
       "    <tr style=\"text-align: right;\">\n",
       "      <th></th>\n",
       "      <th>ukulele</th>\n",
       "      <th>happy</th>\n",
       "      <th>funny</th>\n",
       "      <th>advertising</th>\n",
       "      <th>upbeat</th>\n",
       "      <th>kid</th>\n",
       "      <th>kids</th>\n",
       "      <th>positive</th>\n",
       "      <th>chidren</th>\n",
       "      <th>joy</th>\n",
       "      <th>...</th>\n",
       "      <th>shangai</th>\n",
       "      <th>koto</th>\n",
       "      <th>guzheng</th>\n",
       "      <th>erhu</th>\n",
       "      <th>dizi</th>\n",
       "      <th>voice</th>\n",
       "      <th>sfx</th>\n",
       "      <th>discover</th>\n",
       "      <th>geek</th>\n",
       "      <th>holiday</th>\n",
       "    </tr>\n",
       "  </thead>\n",
       "  <tbody>\n",
       "    <tr>\n",
       "      <th>0</th>\n",
       "      <td>1.000000</td>\n",
       "      <td>0.186441</td>\n",
       "      <td>0.153846</td>\n",
       "      <td>0.086538</td>\n",
       "      <td>0.086957</td>\n",
       "      <td>0.200000</td>\n",
       "      <td>0.321429</td>\n",
       "      <td>0.112360</td>\n",
       "      <td>0.083333</td>\n",
       "      <td>0.250000</td>\n",
       "      <td>...</td>\n",
       "      <td>0.0</td>\n",
       "      <td>0.0</td>\n",
       "      <td>0.0</td>\n",
       "      <td>0.0</td>\n",
       "      <td>0.0</td>\n",
       "      <td>0.0</td>\n",
       "      <td>0.0</td>\n",
       "      <td>0.0</td>\n",
       "      <td>0.0</td>\n",
       "      <td>0.083333</td>\n",
       "    </tr>\n",
       "    <tr>\n",
       "      <th>1</th>\n",
       "      <td>0.186441</td>\n",
       "      <td>1.000000</td>\n",
       "      <td>0.245902</td>\n",
       "      <td>0.370690</td>\n",
       "      <td>0.391304</td>\n",
       "      <td>0.103448</td>\n",
       "      <td>0.406780</td>\n",
       "      <td>0.464646</td>\n",
       "      <td>0.017241</td>\n",
       "      <td>0.266667</td>\n",
       "      <td>...</td>\n",
       "      <td>0.0</td>\n",
       "      <td>0.0</td>\n",
       "      <td>0.0</td>\n",
       "      <td>0.0</td>\n",
       "      <td>0.0</td>\n",
       "      <td>0.0</td>\n",
       "      <td>0.0</td>\n",
       "      <td>0.0</td>\n",
       "      <td>0.0</td>\n",
       "      <td>0.017241</td>\n",
       "    </tr>\n",
       "    <tr>\n",
       "      <th>2</th>\n",
       "      <td>0.153846</td>\n",
       "      <td>0.245902</td>\n",
       "      <td>1.000000</td>\n",
       "      <td>0.101852</td>\n",
       "      <td>0.142857</td>\n",
       "      <td>0.200000</td>\n",
       "      <td>0.387097</td>\n",
       "      <td>0.093750</td>\n",
       "      <td>0.055556</td>\n",
       "      <td>0.090909</td>\n",
       "      <td>...</td>\n",
       "      <td>0.0</td>\n",
       "      <td>0.0</td>\n",
       "      <td>0.0</td>\n",
       "      <td>0.0</td>\n",
       "      <td>0.0</td>\n",
       "      <td>0.0</td>\n",
       "      <td>0.0</td>\n",
       "      <td>0.0</td>\n",
       "      <td>0.0</td>\n",
       "      <td>0.000000</td>\n",
       "    </tr>\n",
       "    <tr>\n",
       "      <th>3</th>\n",
       "      <td>0.086538</td>\n",
       "      <td>0.370690</td>\n",
       "      <td>0.101852</td>\n",
       "      <td>1.000000</td>\n",
       "      <td>0.177966</td>\n",
       "      <td>0.038835</td>\n",
       "      <td>0.188679</td>\n",
       "      <td>0.468750</td>\n",
       "      <td>0.009901</td>\n",
       "      <td>0.133333</td>\n",
       "      <td>...</td>\n",
       "      <td>0.0</td>\n",
       "      <td>0.0</td>\n",
       "      <td>0.0</td>\n",
       "      <td>0.0</td>\n",
       "      <td>0.0</td>\n",
       "      <td>0.0</td>\n",
       "      <td>0.0</td>\n",
       "      <td>0.0</td>\n",
       "      <td>0.0</td>\n",
       "      <td>0.000000</td>\n",
       "    </tr>\n",
       "    <tr>\n",
       "      <th>4</th>\n",
       "      <td>0.086957</td>\n",
       "      <td>0.391304</td>\n",
       "      <td>0.142857</td>\n",
       "      <td>0.177966</td>\n",
       "      <td>1.000000</td>\n",
       "      <td>0.073171</td>\n",
       "      <td>0.260000</td>\n",
       "      <td>0.315789</td>\n",
       "      <td>0.026316</td>\n",
       "      <td>0.272727</td>\n",
       "      <td>...</td>\n",
       "      <td>0.0</td>\n",
       "      <td>0.0</td>\n",
       "      <td>0.0</td>\n",
       "      <td>0.0</td>\n",
       "      <td>0.0</td>\n",
       "      <td>0.0</td>\n",
       "      <td>0.0</td>\n",
       "      <td>0.0</td>\n",
       "      <td>0.0</td>\n",
       "      <td>0.026316</td>\n",
       "    </tr>\n",
       "  </tbody>\n",
       "</table>\n",
       "<p>5 rows × 917 columns</p>\n",
       "</div>"
      ],
      "text/plain": [
       "    ukulele     happy     funny  advertising    upbeat       kid      kids  \\\n",
       "0  1.000000  0.186441  0.153846     0.086538  0.086957  0.200000  0.321429   \n",
       "1  0.186441  1.000000  0.245902     0.370690  0.391304  0.103448  0.406780   \n",
       "2  0.153846  0.245902  1.000000     0.101852  0.142857  0.200000  0.387097   \n",
       "3  0.086538  0.370690  0.101852     1.000000  0.177966  0.038835  0.188679   \n",
       "4  0.086957  0.391304  0.142857     0.177966  1.000000  0.073171  0.260000   \n",
       "\n",
       "   positive   chidren       joy  ...  shangai  koto  guzheng  erhu  dizi  \\\n",
       "0  0.112360  0.083333  0.250000  ...      0.0   0.0      0.0   0.0   0.0   \n",
       "1  0.464646  0.017241  0.266667  ...      0.0   0.0      0.0   0.0   0.0   \n",
       "2  0.093750  0.055556  0.090909  ...      0.0   0.0      0.0   0.0   0.0   \n",
       "3  0.468750  0.009901  0.133333  ...      0.0   0.0      0.0   0.0   0.0   \n",
       "4  0.315789  0.026316  0.272727  ...      0.0   0.0      0.0   0.0   0.0   \n",
       "\n",
       "   voice  sfx  discover  geek   holiday  \n",
       "0    0.0  0.0       0.0   0.0  0.083333  \n",
       "1    0.0  0.0       0.0   0.0  0.017241  \n",
       "2    0.0  0.0       0.0   0.0  0.000000  \n",
       "3    0.0  0.0       0.0   0.0  0.000000  \n",
       "4    0.0  0.0       0.0   0.0  0.026316  \n",
       "\n",
       "[5 rows x 917 columns]"
      ]
     },
     "execution_count": 33,
     "metadata": {},
     "output_type": "execute_result"
    }
   ],
   "source": [
    "df_corr_matrix.head()"
   ]
  },
  {
   "cell_type": "markdown",
   "metadata": {},
   "source": [
    "Lastly, we need to change the index column to represent the tags in the same order as they are in the columns."
   ]
  },
  {
   "cell_type": "code",
   "execution_count": 34,
   "metadata": {},
   "outputs": [],
   "source": [
    "df_corr_matrix[\"index\"] = unique_tags"
   ]
  },
  {
   "cell_type": "code",
   "execution_count": 35,
   "metadata": {},
   "outputs": [],
   "source": [
    "df_corr_matrix = df_corr_matrix.set_index(\"index\")"
   ]
  },
  {
   "cell_type": "markdown",
   "metadata": {},
   "source": [
    "### 2.4 Export the DataFrame as .csv"
   ]
  },
  {
   "cell_type": "code",
   "execution_count": 36,
   "metadata": {},
   "outputs": [],
   "source": [
    "df_corr_matrix.to_csv(\"music_tags_corr_matrix.csv\")"
   ]
  },
  {
   "cell_type": "code",
   "execution_count": null,
   "metadata": {},
   "outputs": [],
   "source": []
  }
 ],
 "metadata": {
  "kernelspec": {
   "display_name": "Python 3",
   "language": "python",
   "name": "python3"
  },
  "language_info": {
   "codemirror_mode": {
    "name": "ipython",
    "version": 3
   },
   "file_extension": ".py",
   "mimetype": "text/x-python",
   "name": "python",
   "nbconvert_exporter": "python",
   "pygments_lexer": "ipython3",
   "version": "3.7.3"
  }
 },
 "nbformat": 4,
 "nbformat_minor": 2
}
